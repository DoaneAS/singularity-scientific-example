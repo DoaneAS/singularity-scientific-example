{
 "cells": [
  {
   "cell_type": "code",
   "execution_count": 1,
   "metadata": {
    "collapsed": true
   },
   "outputs": [],
   "source": [
    "%matplotlib inline \n",
    "import pandas as pd\n",
    "import matplotlib.pyplot as plt\n",
    "import matplotlib.cm as cm\n",
    "import os\n",
    "\n",
    "PROJECT_BASE = os.path.dirname(os.getcwd())\n",
    "RESULTS_DIR = os.path.join(PROJECT_BASE, \"Data\", \"RunInfo\")\n",
    "FIGURE_DIR = os.path.join(PROJECT_BASE, \"Figures\")"
   ]
  },
  {
   "cell_type": "code",
   "execution_count": 2,
   "metadata": {
    "collapsed": true
   },
   "outputs": [],
   "source": [
    "results_4_file = os.path.join(RESULTS_DIR, \"4.quantify_transcripts.results.tsv\")\n",
    "results_6_file = os.path.join(RESULTS_DIR, \"6.bwa_align.results.tsv\")\n",
    "results_8_file = os.path.join(RESULTS_DIR, \"8.map_trio.results.tsv\")\n",
    "results_9_file = os.path.join(RESULTS_DIR, \"9.family_call_variants.results.tsv\")\n",
    "\n",
    "results_4 = pd.read_csv(results_4_file, sep=\"\\t\")\n",
    "results_6 = pd.read_csv(results_6_file, sep=\"\\t\")\n",
    "results_8 = pd.read_csv(results_8_file, sep=\"\\t\")\n",
    "results_9 = pd.read_csv(results_9_file, sep=\"\\t\")"
   ]
  },
  {
   "cell_type": "code",
   "execution_count": 3,
   "metadata": {
    "collapsed": false
   },
   "outputs": [
    {
     "data": {
      "text/html": [
       "<div>\n",
       "<table border=\"1\" class=\"dataframe\">\n",
       "  <thead>\n",
       "    <tr style=\"text-align: right;\">\n",
       "      <th></th>\n",
       "      <th>job_id</th>\n",
       "      <th>run_type</th>\n",
       "      <th>run_time</th>\n",
       "      <th>cpus</th>\n",
       "      <th>cores_threads</th>\n",
       "      <th>core_utilization</th>\n",
       "      <th>core_walltime</th>\n",
       "      <th>percent_core_efficiency</th>\n",
       "      <th>gb_memory_used</th>\n",
       "    </tr>\n",
       "  </thead>\n",
       "  <tbody>\n",
       "    <tr>\n",
       "      <th>0</th>\n",
       "      <td>9382726</td>\n",
       "      <td>host</td>\n",
       "      <td>00:17:52</td>\n",
       "      <td>16</td>\n",
       "      <td>128</td>\n",
       "      <td>04:18:37</td>\n",
       "      <td>04:45:52</td>\n",
       "      <td>90.47</td>\n",
       "      <td>13.93</td>\n",
       "    </tr>\n",
       "    <tr>\n",
       "      <th>1</th>\n",
       "      <td>9382596</td>\n",
       "      <td>container</td>\n",
       "      <td>00:16:33</td>\n",
       "      <td>16</td>\n",
       "      <td>128</td>\n",
       "      <td>03:58:50</td>\n",
       "      <td>04:24:48</td>\n",
       "      <td>90.19</td>\n",
       "      <td>13.97</td>\n",
       "    </tr>\n",
       "    <tr>\n",
       "      <th>2</th>\n",
       "      <td>9382594</td>\n",
       "      <td>host</td>\n",
       "      <td>00:19:54</td>\n",
       "      <td>12</td>\n",
       "      <td>96</td>\n",
       "      <td>03:40:27</td>\n",
       "      <td>03:58:48</td>\n",
       "      <td>92.32</td>\n",
       "      <td>13.06</td>\n",
       "    </tr>\n",
       "    <tr>\n",
       "      <th>3</th>\n",
       "      <td>9382592</td>\n",
       "      <td>container</td>\n",
       "      <td>00:18:14</td>\n",
       "      <td>12</td>\n",
       "      <td>96</td>\n",
       "      <td>03:21:57</td>\n",
       "      <td>03:38:48</td>\n",
       "      <td>92.30</td>\n",
       "      <td>13.42</td>\n",
       "    </tr>\n",
       "    <tr>\n",
       "      <th>4</th>\n",
       "      <td>9381832</td>\n",
       "      <td>host</td>\n",
       "      <td>00:20:34</td>\n",
       "      <td>8</td>\n",
       "      <td>64</td>\n",
       "      <td>02:35:46</td>\n",
       "      <td>02:44:32</td>\n",
       "      <td>94.67</td>\n",
       "      <td>10.12</td>\n",
       "    </tr>\n",
       "  </tbody>\n",
       "</table>\n",
       "</div>"
      ],
      "text/plain": [
       "    job_id   run_type  run_time  cpus  cores_threads core_utilization  \\\n",
       "0  9382726       host  00:17:52    16            128         04:18:37   \n",
       "1  9382596  container  00:16:33    16            128         03:58:50   \n",
       "2  9382594       host  00:19:54    12             96         03:40:27   \n",
       "3  9382592  container  00:18:14    12             96         03:21:57   \n",
       "4  9381832       host  00:20:34     8             64         02:35:46   \n",
       "\n",
       "  core_walltime  percent_core_efficiency  gb_memory_used  \n",
       "0      04:45:52                    90.47           13.93  \n",
       "1      04:24:48                    90.19           13.97  \n",
       "2      03:58:48                    92.32           13.06  \n",
       "3      03:38:48                    92.30           13.42  \n",
       "4      02:44:32                    94.67           10.12  "
      ]
     },
     "execution_count": 3,
     "metadata": {},
     "output_type": "execute_result"
    }
   ],
   "source": [
    "results_4.head()"
   ]
  },
  {
   "cell_type": "code",
   "execution_count": 4,
   "metadata": {
    "collapsed": false
   },
   "outputs": [
    {
     "data": {
      "text/html": [
       "<div>\n",
       "<table border=\"1\" class=\"dataframe\">\n",
       "  <thead>\n",
       "    <tr style=\"text-align: right;\">\n",
       "      <th></th>\n",
       "      <th>job_id</th>\n",
       "      <th>run_type</th>\n",
       "      <th>run_time</th>\n",
       "      <th>cpus</th>\n",
       "      <th>cores_threads</th>\n",
       "      <th>core_utilization</th>\n",
       "      <th>core_walltime</th>\n",
       "      <th>percent_core_efficiency</th>\n",
       "      <th>gb_memory_used</th>\n",
       "    </tr>\n",
       "  </thead>\n",
       "  <tbody>\n",
       "    <tr>\n",
       "      <th>0</th>\n",
       "      <td>9394837</td>\n",
       "      <td>host</td>\n",
       "      <td>01:26:19</td>\n",
       "      <td>16</td>\n",
       "      <td>126</td>\n",
       "      <td>14:55:57</td>\n",
       "      <td>23:01:04</td>\n",
       "      <td>64.87</td>\n",
       "      <td>48.80</td>\n",
       "    </tr>\n",
       "    <tr>\n",
       "      <th>1</th>\n",
       "      <td>9394838</td>\n",
       "      <td>container</td>\n",
       "      <td>01:19:32</td>\n",
       "      <td>16</td>\n",
       "      <td>126</td>\n",
       "      <td>14:27:59</td>\n",
       "      <td>21:12:32</td>\n",
       "      <td>68.21</td>\n",
       "      <td>48.75</td>\n",
       "    </tr>\n",
       "    <tr>\n",
       "      <th>2</th>\n",
       "      <td>9381812</td>\n",
       "      <td>host</td>\n",
       "      <td>02:06:17</td>\n",
       "      <td>8</td>\n",
       "      <td>64</td>\n",
       "      <td>13:47:56</td>\n",
       "      <td>16:50:16</td>\n",
       "      <td>81.95</td>\n",
       "      <td>29.55</td>\n",
       "    </tr>\n",
       "    <tr>\n",
       "      <th>3</th>\n",
       "      <td>9381811</td>\n",
       "      <td>container</td>\n",
       "      <td>01:55:48</td>\n",
       "      <td>8</td>\n",
       "      <td>64</td>\n",
       "      <td>13:11:58</td>\n",
       "      <td>15:26:24</td>\n",
       "      <td>85.49</td>\n",
       "      <td>29.45</td>\n",
       "    </tr>\n",
       "    <tr>\n",
       "      <th>4</th>\n",
       "      <td>9374473</td>\n",
       "      <td>container</td>\n",
       "      <td>06:15:18</td>\n",
       "      <td>2</td>\n",
       "      <td>16</td>\n",
       "      <td>12:24:58</td>\n",
       "      <td>12:30:36</td>\n",
       "      <td>99.25</td>\n",
       "      <td>11.87</td>\n",
       "    </tr>\n",
       "  </tbody>\n",
       "</table>\n",
       "</div>"
      ],
      "text/plain": [
       "    job_id   run_type  run_time  cpus  cores_threads core_utilization  \\\n",
       "0  9394837       host  01:26:19    16            126         14:55:57   \n",
       "1  9394838  container  01:19:32    16            126         14:27:59   \n",
       "2  9381812       host  02:06:17     8             64         13:47:56   \n",
       "3  9381811  container  01:55:48     8             64         13:11:58   \n",
       "4  9374473  container  06:15:18     2             16         12:24:58   \n",
       "\n",
       "  core_walltime  percent_core_efficiency  gb_memory_used  \n",
       "0      23:01:04                    64.87           48.80  \n",
       "1      21:12:32                    68.21           48.75  \n",
       "2      16:50:16                    81.95           29.55  \n",
       "3      15:26:24                    85.49           29.45  \n",
       "4      12:30:36                    99.25           11.87  "
      ]
     },
     "execution_count": 4,
     "metadata": {},
     "output_type": "execute_result"
    }
   ],
   "source": [
    "results_6.head()"
   ]
  },
  {
   "cell_type": "code",
   "execution_count": 5,
   "metadata": {
    "collapsed": false
   },
   "outputs": [
    {
     "data": {
      "text/html": [
       "<div>\n",
       "<table border=\"1\" class=\"dataframe\">\n",
       "  <thead>\n",
       "    <tr style=\"text-align: right;\">\n",
       "      <th></th>\n",
       "      <th>job_id</th>\n",
       "      <th>run_type</th>\n",
       "      <th>run_time</th>\n",
       "      <th>cpus</th>\n",
       "      <th>cores_threads</th>\n",
       "      <th>core_utilization</th>\n",
       "      <th>core_walltime</th>\n",
       "      <th>percent_core_efficiency</th>\n",
       "      <th>gb_memory_used</th>\n",
       "    </tr>\n",
       "  </thead>\n",
       "  <tbody>\n",
       "    <tr>\n",
       "      <th>0</th>\n",
       "      <td>9455903</td>\n",
       "      <td>container</td>\n",
       "      <td>00:45:40</td>\n",
       "      <td>8</td>\n",
       "      <td>64</td>\n",
       "      <td>05:05:19</td>\n",
       "      <td>06:05:20</td>\n",
       "      <td>83.57</td>\n",
       "      <td>42.83</td>\n",
       "    </tr>\n",
       "    <tr>\n",
       "      <th>1</th>\n",
       "      <td>9455904</td>\n",
       "      <td>host</td>\n",
       "      <td>00:45:10</td>\n",
       "      <td>8</td>\n",
       "      <td>64</td>\n",
       "      <td>05:00:28</td>\n",
       "      <td>06:01:20</td>\n",
       "      <td>83.15</td>\n",
       "      <td>40.57</td>\n",
       "    </tr>\n",
       "    <tr>\n",
       "      <th>2</th>\n",
       "      <td>9450125</td>\n",
       "      <td>container</td>\n",
       "      <td>00:50:37</td>\n",
       "      <td>8</td>\n",
       "      <td>64</td>\n",
       "      <td>05:43:33</td>\n",
       "      <td>06:44:56</td>\n",
       "      <td>84.84</td>\n",
       "      <td>41.62</td>\n",
       "    </tr>\n",
       "    <tr>\n",
       "      <th>3</th>\n",
       "      <td>9450126</td>\n",
       "      <td>host</td>\n",
       "      <td>00:44:53</td>\n",
       "      <td>8</td>\n",
       "      <td>64</td>\n",
       "      <td>04:57:48</td>\n",
       "      <td>05:59:04</td>\n",
       "      <td>82.94</td>\n",
       "      <td>42.01</td>\n",
       "    </tr>\n",
       "    <tr>\n",
       "      <th>4</th>\n",
       "      <td>9449942</td>\n",
       "      <td>container</td>\n",
       "      <td>00:46:29</td>\n",
       "      <td>8</td>\n",
       "      <td>64</td>\n",
       "      <td>05:10:53</td>\n",
       "      <td>06:11:52</td>\n",
       "      <td>83.60</td>\n",
       "      <td>42.16</td>\n",
       "    </tr>\n",
       "  </tbody>\n",
       "</table>\n",
       "</div>"
      ],
      "text/plain": [
       "    job_id   run_type  run_time  cpus  cores_threads core_utilization  \\\n",
       "0  9455903  container  00:45:40     8             64         05:05:19   \n",
       "1  9455904       host  00:45:10     8             64         05:00:28   \n",
       "2  9450125  container  00:50:37     8             64         05:43:33   \n",
       "3  9450126       host  00:44:53     8             64         04:57:48   \n",
       "4  9449942  container  00:46:29     8             64         05:10:53   \n",
       "\n",
       "  core_walltime  percent_core_efficiency  gb_memory_used  \n",
       "0      06:05:20                    83.57           42.83  \n",
       "1      06:01:20                    83.15           40.57  \n",
       "2      06:44:56                    84.84           41.62  \n",
       "3      05:59:04                    82.94           42.01  \n",
       "4      06:11:52                    83.60           42.16  "
      ]
     },
     "execution_count": 5,
     "metadata": {},
     "output_type": "execute_result"
    }
   ],
   "source": [
    "results_8.head()"
   ]
  },
  {
   "cell_type": "code",
   "execution_count": 6,
   "metadata": {
    "collapsed": false
   },
   "outputs": [
    {
     "data": {
      "text/html": [
       "<div>\n",
       "<table border=\"1\" class=\"dataframe\">\n",
       "  <thead>\n",
       "    <tr style=\"text-align: right;\">\n",
       "      <th></th>\n",
       "      <th>job_id</th>\n",
       "      <th>run_type</th>\n",
       "      <th>run_time</th>\n",
       "      <th>cpus</th>\n",
       "      <th>cores_threads</th>\n",
       "      <th>core_utilization</th>\n",
       "      <th>core_walltime</th>\n",
       "      <th>percent_core_efficiency</th>\n",
       "      <th>gb_memory_used</th>\n",
       "    </tr>\n",
       "  </thead>\n",
       "  <tbody>\n",
       "    <tr>\n",
       "      <th>0</th>\n",
       "      <td>9472786</td>\n",
       "      <td>container</td>\n",
       "      <td>00:42:47</td>\n",
       "      <td>8</td>\n",
       "      <td>64</td>\n",
       "      <td>04:40:15</td>\n",
       "      <td>05:42:16</td>\n",
       "      <td>81.88</td>\n",
       "      <td>23.93</td>\n",
       "    </tr>\n",
       "    <tr>\n",
       "      <th>1</th>\n",
       "      <td>9472785</td>\n",
       "      <td>host</td>\n",
       "      <td>00:40:44</td>\n",
       "      <td>8</td>\n",
       "      <td>64</td>\n",
       "      <td>04:35:11</td>\n",
       "      <td>05:25:52</td>\n",
       "      <td>84.45</td>\n",
       "      <td>23.56</td>\n",
       "    </tr>\n",
       "    <tr>\n",
       "      <th>2</th>\n",
       "      <td>9471869</td>\n",
       "      <td>container</td>\n",
       "      <td>00:42:14</td>\n",
       "      <td>8</td>\n",
       "      <td>64</td>\n",
       "      <td>04:32:42</td>\n",
       "      <td>05:37:52</td>\n",
       "      <td>80.71</td>\n",
       "      <td>20.40</td>\n",
       "    </tr>\n",
       "    <tr>\n",
       "      <th>3</th>\n",
       "      <td>9471868</td>\n",
       "      <td>host</td>\n",
       "      <td>00:41:40</td>\n",
       "      <td>8</td>\n",
       "      <td>64</td>\n",
       "      <td>04:37:28</td>\n",
       "      <td>05:33:20</td>\n",
       "      <td>83.24</td>\n",
       "      <td>21.63</td>\n",
       "    </tr>\n",
       "    <tr>\n",
       "      <th>4</th>\n",
       "      <td>9470489</td>\n",
       "      <td>container</td>\n",
       "      <td>00:42:26</td>\n",
       "      <td>8</td>\n",
       "      <td>64</td>\n",
       "      <td>04:36:42</td>\n",
       "      <td>05:39:28</td>\n",
       "      <td>81.51</td>\n",
       "      <td>25.86</td>\n",
       "    </tr>\n",
       "  </tbody>\n",
       "</table>\n",
       "</div>"
      ],
      "text/plain": [
       "    job_id   run_type  run_time  cpus  cores_threads core_utilization  \\\n",
       "0  9472786  container  00:42:47     8             64         04:40:15   \n",
       "1  9472785       host  00:40:44     8             64         04:35:11   \n",
       "2  9471869  container  00:42:14     8             64         04:32:42   \n",
       "3  9471868       host  00:41:40     8             64         04:37:28   \n",
       "4  9470489  container  00:42:26     8             64         04:36:42   \n",
       "\n",
       "  core_walltime  percent_core_efficiency  gb_memory_used  \n",
       "0      05:42:16                    81.88           23.93  \n",
       "1      05:25:52                    84.45           23.56  \n",
       "2      05:37:52                    80.71           20.40  \n",
       "3      05:33:20                    83.24           21.63  \n",
       "4      05:39:28                    81.51           25.86  "
      ]
     },
     "execution_count": 6,
     "metadata": {},
     "output_type": "execute_result"
    }
   ],
   "source": [
    "results_9.head()"
   ]
  },
  {
   "cell_type": "code",
   "execution_count": 7,
   "metadata": {
    "collapsed": false
   },
   "outputs": [],
   "source": [
    "def convert_to_seconds(time_string):\n",
    "    if '-' in time_string:\n",
    "        d = int(time_string.split('-')[0])\n",
    "        temp = [int(x) for x in time_string.split('-')[1].split(':')]\n",
    "        h, m, s = temp[0], temp[1], temp[2]\n",
    "        elapsed_seconds = d * ((60 ** 2) * 24) + h * 60 ** 2 + m * 60 + s\n",
    "        return elapsed_seconds\n",
    "    else:\n",
    "        temp = [int(x) for x in time_string.split(':')]\n",
    "        h, m, s = temp[0], temp[1], temp[2]\n",
    "        elapsed_seconds = h * 60 ** 2 + m * 60 + s\n",
    "        return elapsed_seconds"
   ]
  },
  {
   "cell_type": "code",
   "execution_count": 8,
   "metadata": {
    "collapsed": false
   },
   "outputs": [],
   "source": [
    "results_4[\"run_time\"] = results_4[\"run_time\"].apply(lambda x: convert_to_seconds(x))\n",
    "results_4[\"core_utilization\"] = results_4[\"core_utilization\"].apply(lambda x: convert_to_seconds(x))\n",
    "results_4[\"core_walltime\"] = results_4[\"core_walltime\"].apply(lambda x: convert_to_seconds(x))\n",
    "\n",
    "results_6[\"run_time\"] = results_6[\"run_time\"].apply(lambda x: convert_to_seconds(x))\n",
    "results_6[\"core_utilization\"] = results_6[\"core_utilization\"].apply(lambda x: convert_to_seconds(x))\n",
    "results_6[\"core_walltime\"] = results_6[\"core_walltime\"].apply(lambda x: convert_to_seconds(x))\n",
    "\n",
    "results_8[\"run_time\"] = results_8[\"run_time\"].apply(lambda x: convert_to_seconds(x))\n",
    "results_8[\"core_utilization\"] = results_8[\"core_utilization\"].apply(lambda x: convert_to_seconds(x))\n",
    "results_8[\"core_walltime\"] = results_8[\"core_walltime\"].apply(lambda x: convert_to_seconds(x))\n",
    "\n",
    "results_9[\"run_time\"] = results_9[\"run_time\"].apply(lambda x: convert_to_seconds(x))\n",
    "results_9[\"core_utilization\"] = results_9[\"core_utilization\"].apply(lambda x: convert_to_seconds(x))\n",
    "results_9[\"core_walltime\"] = results_9[\"core_walltime\"].apply(lambda x: convert_to_seconds(x))"
   ]
  },
  {
   "cell_type": "code",
   "execution_count": 9,
   "metadata": {
    "collapsed": false
   },
   "outputs": [
    {
     "data": {
      "text/html": [
       "<div>\n",
       "<table border=\"1\" class=\"dataframe\">\n",
       "  <thead>\n",
       "    <tr style=\"text-align: right;\">\n",
       "      <th></th>\n",
       "      <th>job_id</th>\n",
       "      <th>run_type</th>\n",
       "      <th>run_time</th>\n",
       "      <th>cpus</th>\n",
       "      <th>cores_threads</th>\n",
       "      <th>core_utilization</th>\n",
       "      <th>core_walltime</th>\n",
       "      <th>percent_core_efficiency</th>\n",
       "      <th>gb_memory_used</th>\n",
       "    </tr>\n",
       "  </thead>\n",
       "  <tbody>\n",
       "    <tr>\n",
       "      <th>0</th>\n",
       "      <td>9382726</td>\n",
       "      <td>host</td>\n",
       "      <td>1072</td>\n",
       "      <td>16</td>\n",
       "      <td>128</td>\n",
       "      <td>15517</td>\n",
       "      <td>17152</td>\n",
       "      <td>90.47</td>\n",
       "      <td>13.93</td>\n",
       "    </tr>\n",
       "    <tr>\n",
       "      <th>1</th>\n",
       "      <td>9382596</td>\n",
       "      <td>container</td>\n",
       "      <td>993</td>\n",
       "      <td>16</td>\n",
       "      <td>128</td>\n",
       "      <td>14330</td>\n",
       "      <td>15888</td>\n",
       "      <td>90.19</td>\n",
       "      <td>13.97</td>\n",
       "    </tr>\n",
       "    <tr>\n",
       "      <th>2</th>\n",
       "      <td>9382594</td>\n",
       "      <td>host</td>\n",
       "      <td>1194</td>\n",
       "      <td>12</td>\n",
       "      <td>96</td>\n",
       "      <td>13227</td>\n",
       "      <td>14328</td>\n",
       "      <td>92.32</td>\n",
       "      <td>13.06</td>\n",
       "    </tr>\n",
       "    <tr>\n",
       "      <th>3</th>\n",
       "      <td>9382592</td>\n",
       "      <td>container</td>\n",
       "      <td>1094</td>\n",
       "      <td>12</td>\n",
       "      <td>96</td>\n",
       "      <td>12117</td>\n",
       "      <td>13128</td>\n",
       "      <td>92.30</td>\n",
       "      <td>13.42</td>\n",
       "    </tr>\n",
       "    <tr>\n",
       "      <th>4</th>\n",
       "      <td>9381832</td>\n",
       "      <td>host</td>\n",
       "      <td>1234</td>\n",
       "      <td>8</td>\n",
       "      <td>64</td>\n",
       "      <td>9346</td>\n",
       "      <td>9872</td>\n",
       "      <td>94.67</td>\n",
       "      <td>10.12</td>\n",
       "    </tr>\n",
       "  </tbody>\n",
       "</table>\n",
       "</div>"
      ],
      "text/plain": [
       "    job_id   run_type  run_time  cpus  cores_threads  core_utilization  \\\n",
       "0  9382726       host      1072    16            128             15517   \n",
       "1  9382596  container       993    16            128             14330   \n",
       "2  9382594       host      1194    12             96             13227   \n",
       "3  9382592  container      1094    12             96             12117   \n",
       "4  9381832       host      1234     8             64              9346   \n",
       "\n",
       "   core_walltime  percent_core_efficiency  gb_memory_used  \n",
       "0          17152                    90.47           13.93  \n",
       "1          15888                    90.19           13.97  \n",
       "2          14328                    92.32           13.06  \n",
       "3          13128                    92.30           13.42  \n",
       "4           9872                    94.67           10.12  "
      ]
     },
     "execution_count": 9,
     "metadata": {},
     "output_type": "execute_result"
    }
   ],
   "source": [
    "results_4.head()"
   ]
  },
  {
   "cell_type": "code",
   "execution_count": 10,
   "metadata": {
    "collapsed": false
   },
   "outputs": [
    {
     "data": {
      "text/html": [
       "<div>\n",
       "<table border=\"1\" class=\"dataframe\">\n",
       "  <thead>\n",
       "    <tr style=\"text-align: right;\">\n",
       "      <th></th>\n",
       "      <th>job_id</th>\n",
       "      <th>run_type</th>\n",
       "      <th>run_time</th>\n",
       "      <th>cpus</th>\n",
       "      <th>cores_threads</th>\n",
       "      <th>core_utilization</th>\n",
       "      <th>core_walltime</th>\n",
       "      <th>percent_core_efficiency</th>\n",
       "      <th>gb_memory_used</th>\n",
       "    </tr>\n",
       "  </thead>\n",
       "  <tbody>\n",
       "    <tr>\n",
       "      <th>0</th>\n",
       "      <td>9394837</td>\n",
       "      <td>host</td>\n",
       "      <td>5179</td>\n",
       "      <td>16</td>\n",
       "      <td>126</td>\n",
       "      <td>53757</td>\n",
       "      <td>82864</td>\n",
       "      <td>64.87</td>\n",
       "      <td>48.80</td>\n",
       "    </tr>\n",
       "    <tr>\n",
       "      <th>1</th>\n",
       "      <td>9394838</td>\n",
       "      <td>container</td>\n",
       "      <td>4772</td>\n",
       "      <td>16</td>\n",
       "      <td>126</td>\n",
       "      <td>52079</td>\n",
       "      <td>76352</td>\n",
       "      <td>68.21</td>\n",
       "      <td>48.75</td>\n",
       "    </tr>\n",
       "    <tr>\n",
       "      <th>2</th>\n",
       "      <td>9381812</td>\n",
       "      <td>host</td>\n",
       "      <td>7577</td>\n",
       "      <td>8</td>\n",
       "      <td>64</td>\n",
       "      <td>49676</td>\n",
       "      <td>60616</td>\n",
       "      <td>81.95</td>\n",
       "      <td>29.55</td>\n",
       "    </tr>\n",
       "    <tr>\n",
       "      <th>3</th>\n",
       "      <td>9381811</td>\n",
       "      <td>container</td>\n",
       "      <td>6948</td>\n",
       "      <td>8</td>\n",
       "      <td>64</td>\n",
       "      <td>47518</td>\n",
       "      <td>55584</td>\n",
       "      <td>85.49</td>\n",
       "      <td>29.45</td>\n",
       "    </tr>\n",
       "    <tr>\n",
       "      <th>4</th>\n",
       "      <td>9374473</td>\n",
       "      <td>container</td>\n",
       "      <td>22518</td>\n",
       "      <td>2</td>\n",
       "      <td>16</td>\n",
       "      <td>44698</td>\n",
       "      <td>45036</td>\n",
       "      <td>99.25</td>\n",
       "      <td>11.87</td>\n",
       "    </tr>\n",
       "  </tbody>\n",
       "</table>\n",
       "</div>"
      ],
      "text/plain": [
       "    job_id   run_type  run_time  cpus  cores_threads  core_utilization  \\\n",
       "0  9394837       host      5179    16            126             53757   \n",
       "1  9394838  container      4772    16            126             52079   \n",
       "2  9381812       host      7577     8             64             49676   \n",
       "3  9381811  container      6948     8             64             47518   \n",
       "4  9374473  container     22518     2             16             44698   \n",
       "\n",
       "   core_walltime  percent_core_efficiency  gb_memory_used  \n",
       "0          82864                    64.87           48.80  \n",
       "1          76352                    68.21           48.75  \n",
       "2          60616                    81.95           29.55  \n",
       "3          55584                    85.49           29.45  \n",
       "4          45036                    99.25           11.87  "
      ]
     },
     "execution_count": 10,
     "metadata": {},
     "output_type": "execute_result"
    }
   ],
   "source": [
    "results_6.head()"
   ]
  },
  {
   "cell_type": "code",
   "execution_count": 11,
   "metadata": {
    "collapsed": false
   },
   "outputs": [
    {
     "data": {
      "text/html": [
       "<div>\n",
       "<table border=\"1\" class=\"dataframe\">\n",
       "  <thead>\n",
       "    <tr style=\"text-align: right;\">\n",
       "      <th></th>\n",
       "      <th>job_id</th>\n",
       "      <th>run_type</th>\n",
       "      <th>run_time</th>\n",
       "      <th>cpus</th>\n",
       "      <th>cores_threads</th>\n",
       "      <th>core_utilization</th>\n",
       "      <th>core_walltime</th>\n",
       "      <th>percent_core_efficiency</th>\n",
       "      <th>gb_memory_used</th>\n",
       "    </tr>\n",
       "  </thead>\n",
       "  <tbody>\n",
       "    <tr>\n",
       "      <th>0</th>\n",
       "      <td>9455903</td>\n",
       "      <td>container</td>\n",
       "      <td>2740</td>\n",
       "      <td>8</td>\n",
       "      <td>64</td>\n",
       "      <td>18319</td>\n",
       "      <td>21920</td>\n",
       "      <td>83.57</td>\n",
       "      <td>42.83</td>\n",
       "    </tr>\n",
       "    <tr>\n",
       "      <th>1</th>\n",
       "      <td>9455904</td>\n",
       "      <td>host</td>\n",
       "      <td>2710</td>\n",
       "      <td>8</td>\n",
       "      <td>64</td>\n",
       "      <td>18028</td>\n",
       "      <td>21680</td>\n",
       "      <td>83.15</td>\n",
       "      <td>40.57</td>\n",
       "    </tr>\n",
       "    <tr>\n",
       "      <th>2</th>\n",
       "      <td>9450125</td>\n",
       "      <td>container</td>\n",
       "      <td>3037</td>\n",
       "      <td>8</td>\n",
       "      <td>64</td>\n",
       "      <td>20613</td>\n",
       "      <td>24296</td>\n",
       "      <td>84.84</td>\n",
       "      <td>41.62</td>\n",
       "    </tr>\n",
       "    <tr>\n",
       "      <th>3</th>\n",
       "      <td>9450126</td>\n",
       "      <td>host</td>\n",
       "      <td>2693</td>\n",
       "      <td>8</td>\n",
       "      <td>64</td>\n",
       "      <td>17868</td>\n",
       "      <td>21544</td>\n",
       "      <td>82.94</td>\n",
       "      <td>42.01</td>\n",
       "    </tr>\n",
       "    <tr>\n",
       "      <th>4</th>\n",
       "      <td>9449942</td>\n",
       "      <td>container</td>\n",
       "      <td>2789</td>\n",
       "      <td>8</td>\n",
       "      <td>64</td>\n",
       "      <td>18653</td>\n",
       "      <td>22312</td>\n",
       "      <td>83.60</td>\n",
       "      <td>42.16</td>\n",
       "    </tr>\n",
       "  </tbody>\n",
       "</table>\n",
       "</div>"
      ],
      "text/plain": [
       "    job_id   run_type  run_time  cpus  cores_threads  core_utilization  \\\n",
       "0  9455903  container      2740     8             64             18319   \n",
       "1  9455904       host      2710     8             64             18028   \n",
       "2  9450125  container      3037     8             64             20613   \n",
       "3  9450126       host      2693     8             64             17868   \n",
       "4  9449942  container      2789     8             64             18653   \n",
       "\n",
       "   core_walltime  percent_core_efficiency  gb_memory_used  \n",
       "0          21920                    83.57           42.83  \n",
       "1          21680                    83.15           40.57  \n",
       "2          24296                    84.84           41.62  \n",
       "3          21544                    82.94           42.01  \n",
       "4          22312                    83.60           42.16  "
      ]
     },
     "execution_count": 11,
     "metadata": {},
     "output_type": "execute_result"
    }
   ],
   "source": [
    "results_8.head()"
   ]
  },
  {
   "cell_type": "code",
   "execution_count": 12,
   "metadata": {
    "collapsed": false
   },
   "outputs": [
    {
     "data": {
      "text/html": [
       "<div>\n",
       "<table border=\"1\" class=\"dataframe\">\n",
       "  <thead>\n",
       "    <tr style=\"text-align: right;\">\n",
       "      <th></th>\n",
       "      <th>job_id</th>\n",
       "      <th>run_type</th>\n",
       "      <th>run_time</th>\n",
       "      <th>cpus</th>\n",
       "      <th>cores_threads</th>\n",
       "      <th>core_utilization</th>\n",
       "      <th>core_walltime</th>\n",
       "      <th>percent_core_efficiency</th>\n",
       "      <th>gb_memory_used</th>\n",
       "    </tr>\n",
       "  </thead>\n",
       "  <tbody>\n",
       "    <tr>\n",
       "      <th>0</th>\n",
       "      <td>9472786</td>\n",
       "      <td>container</td>\n",
       "      <td>2567</td>\n",
       "      <td>8</td>\n",
       "      <td>64</td>\n",
       "      <td>16815</td>\n",
       "      <td>20536</td>\n",
       "      <td>81.88</td>\n",
       "      <td>23.93</td>\n",
       "    </tr>\n",
       "    <tr>\n",
       "      <th>1</th>\n",
       "      <td>9472785</td>\n",
       "      <td>host</td>\n",
       "      <td>2444</td>\n",
       "      <td>8</td>\n",
       "      <td>64</td>\n",
       "      <td>16511</td>\n",
       "      <td>19552</td>\n",
       "      <td>84.45</td>\n",
       "      <td>23.56</td>\n",
       "    </tr>\n",
       "    <tr>\n",
       "      <th>2</th>\n",
       "      <td>9471869</td>\n",
       "      <td>container</td>\n",
       "      <td>2534</td>\n",
       "      <td>8</td>\n",
       "      <td>64</td>\n",
       "      <td>16362</td>\n",
       "      <td>20272</td>\n",
       "      <td>80.71</td>\n",
       "      <td>20.40</td>\n",
       "    </tr>\n",
       "    <tr>\n",
       "      <th>3</th>\n",
       "      <td>9471868</td>\n",
       "      <td>host</td>\n",
       "      <td>2500</td>\n",
       "      <td>8</td>\n",
       "      <td>64</td>\n",
       "      <td>16648</td>\n",
       "      <td>20000</td>\n",
       "      <td>83.24</td>\n",
       "      <td>21.63</td>\n",
       "    </tr>\n",
       "    <tr>\n",
       "      <th>4</th>\n",
       "      <td>9470489</td>\n",
       "      <td>container</td>\n",
       "      <td>2546</td>\n",
       "      <td>8</td>\n",
       "      <td>64</td>\n",
       "      <td>16602</td>\n",
       "      <td>20368</td>\n",
       "      <td>81.51</td>\n",
       "      <td>25.86</td>\n",
       "    </tr>\n",
       "  </tbody>\n",
       "</table>\n",
       "</div>"
      ],
      "text/plain": [
       "    job_id   run_type  run_time  cpus  cores_threads  core_utilization  \\\n",
       "0  9472786  container      2567     8             64             16815   \n",
       "1  9472785       host      2444     8             64             16511   \n",
       "2  9471869  container      2534     8             64             16362   \n",
       "3  9471868       host      2500     8             64             16648   \n",
       "4  9470489  container      2546     8             64             16602   \n",
       "\n",
       "   core_walltime  percent_core_efficiency  gb_memory_used  \n",
       "0          20536                    81.88           23.93  \n",
       "1          19552                    84.45           23.56  \n",
       "2          20272                    80.71           20.40  \n",
       "3          20000                    83.24           21.63  \n",
       "4          20368                    81.51           25.86  "
      ]
     },
     "execution_count": 12,
     "metadata": {},
     "output_type": "execute_result"
    }
   ],
   "source": [
    "results_9.head()"
   ]
  },
  {
   "cell_type": "code",
   "execution_count": 13,
   "metadata": {
    "collapsed": false
   },
   "outputs": [
    {
     "data": {
      "image/png": "[encoded data removed]",
      "text/plain": [
       "<matplotlib.figure.Figure at 0x11476a7b8>"
      ]
     },
     "metadata": {},
     "output_type": "display_data"
    }
   ],
   "source": [
    "r4h = results_4[results_4[\"run_type\"] == \"host\"]\n",
    "r4c = results_4[results_4[\"run_type\"] == \"container\"]\n",
    "\n",
    "cpus = (r4h[\"cpus\"]).astype(str).values\n",
    "cores_per_cpu = (r4h[\"cores_threads\"] / r4h[\"cpus\"]).astype(int).astype(str).values\n",
    "x_labels = [\"-\".join([a, b]) for a, b in zip(cpus, cores_per_cpu)]\n",
    "\n",
    "plt.scatter(r4h[\"cores_threads\"], r4h[\"run_time\"], c=list(range(r4h.shape[0])), cmap=cm.jet, marker=\"o\", s=100, alpha=0.4, label=\"Host\")\n",
    "plt.scatter(r4c[\"cores_threads\"], r4c[\"run_time\"], c=list(range(r4h.shape[0])), cmap=cm.jet, marker=\"s\", s=100, alpha=0.4, label=\"Container\")\n",
    "plt.xlabel(\"Total cores (1 thread per core)\")\n",
    "plt.ylabel(\"Runtime (seconds)\")\n",
    "plt.xticks(r4h[\"cores_threads\"])\n",
    "plt.ylim(0, max(results_4[\"run_time\"]) * 1.1)\n",
    "plt.legend(scatterpoints=1)\n",
    "plt.tick_params(top=\"off\", right=\"off\")\n",
    "plt.title(\"Kallisto RNAseq quantification to gencode release 25\")\n",
    "\n",
    "for lab, x, y in zip(x_labels, r4h[\"cores_threads\"], r4h[\"run_time\"]):\n",
    "    plt.annotate(lab, xy=(x, y), xycoords='data', xytext=(-10, 15), textcoords='offset points')\n",
    "    \n",
    "plt.savefig(os.path.join(FIGURE_DIR, \"4.runtime.png\"))"
   ]
  },
  {
   "cell_type": "code",
   "execution_count": 14,
   "metadata": {
    "collapsed": false
   },
   "outputs": [
    {
     "data": {
      "image/png": "[encoded data removed]",
      "text/plain": [
       "<matplotlib.figure.Figure at 0x114796ac8>"
      ]
     },
     "metadata": {},
     "output_type": "display_data"
    }
   ],
   "source": [
    "plt.scatter(r4h[\"cores_threads\"], r4h[\"gb_memory_used\"], c=list(range(r4h.shape[0])), cmap=cm.jet, marker=\"o\", s=100, alpha=0.4, label=\"Host\")\n",
    "plt.scatter(r4c[\"cores_threads\"], r4c[\"gb_memory_used\"], c=list(range(r4h.shape[0])), cmap=cm.jet, marker=\"s\", s=100, alpha=0.4, label=\"Container\")\n",
    "plt.xlabel(\"Total cores (1 thread per core)\")\n",
    "plt.ylabel(\"Memory utilization (GB)\")\n",
    "plt.xticks(r4h[\"cores_threads\"])\n",
    "plt.ylim(0, max(results_4[\"gb_memory_used\"]) * 1.15)\n",
    "plt.legend(scatterpoints=1, loc=2)\n",
    "plt.tick_params(top=\"off\", right=\"off\")\n",
    "plt.title(\"Kallisto RNAseq quantification to gencode release 25\")\n",
    "\n",
    "for lab, x, y in zip(x_labels[0:-1], r4h[\"cores_threads\"][0:-1], r4h[\"gb_memory_used\"][0:-1]):\n",
    "    plt.annotate(lab, xy=(x, y), xycoords='data', xytext=(-10, 15), textcoords='offset points')\n",
    "\n",
    "plt.annotate(x_labels[-1], xy=(r4h[\"cores_threads\"].iloc[-1], r4h[\"gb_memory_used\"].iloc[-1]), xycoords='data', xytext=(-10, -20), textcoords='offset points')\n",
    "\n",
    "plt.savefig(os.path.join(FIGURE_DIR, \"4.memory.png\"))"
   ]
  },
  {
   "cell_type": "code",
   "execution_count": 15,
   "metadata": {
    "collapsed": false
   },
   "outputs": [
    {
     "data": {
      "image/png": "[encoded data removed]",
      "text/plain": [
       "<matplotlib.figure.Figure at 0x11476a2e8>"
      ]
     },
     "metadata": {},
     "output_type": "display_data"
    }
   ],
   "source": [
    "r6h = results_6[results_6[\"run_type\"] == \"host\"]\n",
    "r6c = results_6[results_6[\"run_type\"] == \"container\"]\n",
    "\n",
    "cpus = (r6h[\"cpus\"]).astype(str).values\n",
    "cores_per_cpu = (r6h[\"cores_threads\"] / r6h[\"cpus\"]).astype(int).astype(str).values\n",
    "x_labels = [\"-\".join([a, b]) for a, b in zip(cpus, cores_per_cpu)]\n",
    "x_labels = [\"16-8\"] + x_labels[1:]\n",
    "\n",
    "plt.scatter(r6h[\"cores_threads\"], r6h[\"run_time\"], c=list(range(r6h.shape[0])), cmap=cm.jet, marker=\"o\", s=100, alpha=0.4, label=\"Host\")\n",
    "plt.scatter(r6c[\"cores_threads\"], r6c[\"run_time\"], c=list(range(r6h.shape[0])), cmap=cm.jet, marker=\"s\", s=100, alpha=0.4, label=\"Container\")\n",
    "plt.xlabel(\"Total cores (1 thread per core)\")\n",
    "plt.ylim(0, max(results_6[\"run_time\"]) * 1.15)\n",
    "plt.ylabel(\"Runtime (seconds)\")\n",
    "plt.xticks(r6h[\"cores_threads\"])\n",
    "plt.legend(scatterpoints=1)\n",
    "plt.tick_params(top=\"off\", right=\"off\")\n",
    "plt.title(\"BWA-mem read alignment to GRCh38\")\n",
    "\n",
    "for lab, x, y in zip(x_labels, r6h[\"cores_threads\"], r6h[\"run_time\"]):\n",
    "    plt.annotate(lab, xy=(x, y), xycoords='data', xytext=(-10, 10), textcoords='offset points')\n",
    "    \n",
    "plt.savefig(os.path.join(FIGURE_DIR, \"6.runtime.png\"))"
   ]
  },
  {
   "cell_type": "code",
   "execution_count": 16,
   "metadata": {
    "collapsed": false
   },
   "outputs": [
    {
     "data": {
      "image/png": "[encoded data removed]",
      "text/plain": [
       "<matplotlib.figure.Figure at 0x117934ba8>"
      ]
     },
     "metadata": {},
     "output_type": "display_data"
    }
   ],
   "source": [
    "plt.scatter(r6h[\"cores_threads\"], r6h[\"gb_memory_used\"], c=list(range(r6h.shape[0])), cmap=cm.jet, marker=\"o\", s=100, alpha=0.4, label=\"Host\")\n",
    "plt.scatter(r6c[\"cores_threads\"], r6c[\"gb_memory_used\"], c=list(range(r6h.shape[0])), cmap=cm.jet, marker=\"s\", s=100, alpha=0.4, label=\"Container\")\n",
    "plt.xlabel(\"Total cores (1 thread per core)\")\n",
    "plt.ylim(0, max(results_6[\"gb_memory_used\"]) * 1.15)\n",
    "plt.ylabel(\"Memory utilization (GB)\")\n",
    "plt.xticks(r6h[\"cores_threads\"])\n",
    "plt.legend(scatterpoints=1, loc=2)\n",
    "plt.tick_params(top=\"off\", right=\"off\")\n",
    "plt.title(\"BWA-mem read alignment to GRCh38\")\n",
    "\n",
    "for lab, x, y in zip(x_labels[0:-2], r6h[\"cores_threads\"][0:-2], r6h[\"gb_memory_used\"][0:-2]):\n",
    "    plt.annotate(lab, xy=(x, y), xycoords='data', xytext=(-10, 10), textcoords='offset points')\n",
    "    \n",
    "plt.annotate(x_labels[-1], xy=(r6h[\"cores_threads\"].iloc[-1], r6h[\"gb_memory_used\"].iloc[-1]), xycoords='data', xytext=(-10, -20), textcoords='offset points')\n",
    "\n",
    "plt.savefig(os.path.join(FIGURE_DIR, \"6.memory.png\"))"
   ]
  },
  {
   "cell_type": "code",
   "execution_count": 17,
   "metadata": {
    "collapsed": false
   },
   "outputs": [
    {
     "data": {
      "image/png": "[encoded data removed]",
      "text/plain": [
       "<matplotlib.figure.Figure at 0x114774160>"
      ]
     },
     "metadata": {},
     "output_type": "display_data"
    }
   ],
   "source": [
    "r8h = results_8[results_8[\"run_type\"] == \"host\"]\n",
    "r8c = results_8[results_8[\"run_type\"] == \"container\"]\n",
    "\n",
    "plt.scatter([0] * r8h.shape[0], r8h[\"run_time\"], c=list(range(r8h.shape[0])), cmap=cm.jet, marker=\"o\", s=100, alpha=0.4, label=\"Host\")\n",
    "plt.scatter([1] * r8c.shape[0], r8c[\"run_time\"], c=list(range(r8h.shape[0])), cmap=cm.jet, marker=\"s\", s=100, alpha=0.4, label=\"Container\")\n",
    "plt.xlim(-0.5, 1.5)\n",
    "plt.ylim(0, max(results_8[\"run_time\"]) * 1.1)\n",
    "plt.ylabel(\"Runtime (seconds)\")\n",
    "plt.xticks([0, 1], [\"Host\", \"Container\"])\n",
    "plt.tick_params(top=\"off\", right=\"off\")\n",
    "plt.title(\"RTG read alignment to GRCh38, GIAB Ashkenazi trio\")\n",
    "\n",
    "plt.savefig(os.path.join(FIGURE_DIR, \"8.runtime.full.png\"))"
   ]
  },
  {
   "cell_type": "code",
   "execution_count": 18,
   "metadata": {
    "collapsed": false
   },
   "outputs": [
    {
     "data": {
      "image/png": "[encoded data removed]",
      "text/plain": [
       "<matplotlib.figure.Figure at 0x117e564a8>"
      ]
     },
     "metadata": {},
     "output_type": "display_data"
    }
   ],
   "source": [
    "r8h = results_8[results_8[\"run_type\"] == \"host\"]\n",
    "r8c = results_8[results_8[\"run_type\"] == \"container\"]\n",
    "\n",
    "plt.scatter([0] * r8h.shape[0], r8h[\"run_time\"], c=list(range(r8h.shape[0])), cmap=cm.jet, marker=\"o\", s=100, alpha=0.4, label=\"Host\")\n",
    "plt.scatter([1] * r8c.shape[0], r8c[\"run_time\"], c=list(range(r8h.shape[0])), cmap=cm.jet, marker=\"s\", s=100, alpha=0.4, label=\"Container\")\n",
    "plt.xlim(-0.5, 1.5)\n",
    "plt.ylabel(\"Runtime (seconds)\")\n",
    "plt.xticks([0, 1], [\"Host\", \"Container\"])\n",
    "plt.tick_params(top=\"off\", right=\"off\")\n",
    "plt.title(\"RTG read alignment to GRCh38, GIAB Ashkenazi trio\")\n",
    "\n",
    "plt.savefig(os.path.join(FIGURE_DIR, \"8.runtime.condensed.png\"))"
   ]
  },
  {
   "cell_type": "code",
   "execution_count": 19,
   "metadata": {
    "collapsed": false
   },
   "outputs": [
    {
     "data": {
      "image/png": "[encoded data removed]",
      "text/plain": [
       "<matplotlib.figure.Figure at 0x11800e630>"
      ]
     },
     "metadata": {},
     "output_type": "display_data"
    }
   ],
   "source": [
    "plt.scatter([0] * r8h.shape[0], r8h[\"gb_memory_used\"], c=list(range(r8h.shape[0])), cmap=cm.jet, marker=\"o\", s=100, alpha=0.4, label=\"Host\")\n",
    "plt.scatter([1] * r8c.shape[0], r8c[\"gb_memory_used\"], c=list(range(r8h.shape[0])), cmap=cm.jet, marker=\"s\", s=100, alpha=0.4, label=\"Container\")\n",
    "plt.xlim(-0.5, 1.5)\n",
    "plt.ylim(0, max(results_8[\"gb_memory_used\"]) * 1.1)\n",
    "plt.ylabel(\"Memory utilization (GB)\")\n",
    "plt.xticks([0, 1], [\"Host\", \"Container\"])\n",
    "plt.tick_params(top=\"off\", right=\"off\")\n",
    "plt.title(\"RTG read alignment to GRCh38, GIAB Ashkenazi trio\")\n",
    "\n",
    "plt.savefig(os.path.join(FIGURE_DIR, \"8.memory.full.png\"))"
   ]
  },
  {
   "cell_type": "code",
   "execution_count": 20,
   "metadata": {
    "collapsed": false
   },
   "outputs": [
    {
     "data": {
      "image/png": "[encoded data removed]",
      "text/plain": [
       "<matplotlib.figure.Figure at 0x1180fbeb8>"
      ]
     },
     "metadata": {},
     "output_type": "display_data"
    }
   ],
   "source": [
    "plt.scatter([0] * r8h.shape[0], r8h[\"gb_memory_used\"], c=list(range(r8h.shape[0])), cmap=cm.jet, marker=\"o\", s=100, alpha=0.4, label=\"Host\")\n",
    "plt.scatter([1] * r8c.shape[0], r8c[\"gb_memory_used\"], c=list(range(r8h.shape[0])), cmap=cm.jet, marker=\"s\", s=100, alpha=0.4, label=\"Container\")\n",
    "plt.xlim(-0.5, 1.5)\n",
    "plt.ylabel(\"Memory utilization (GB)\")\n",
    "plt.xticks([0, 1], [\"Host\", \"Container\"])\n",
    "plt.tick_params(top=\"off\", right=\"off\")\n",
    "plt.title(\"RTG read alignment to GRCh38, GIAB Ashkenazi trio\")\n",
    "\n",
    "plt.savefig(os.path.join(FIGURE_DIR, \"8.memory.condensed.png\"))"
   ]
  },
  {
   "cell_type": "code",
   "execution_count": 21,
   "metadata": {
    "collapsed": false
   },
   "outputs": [
    {
     "data": {
      "image/png": "[encoded data removed]",
      "text/plain": [
       "<matplotlib.figure.Figure at 0x118113978>"
      ]
     },
     "metadata": {},
     "output_type": "display_data"
    }
   ],
   "source": [
    "r9h = results_9[results_9[\"run_type\"] == \"host\"]\n",
    "r9c = results_9[results_9[\"run_type\"] == \"container\"]\n",
    "\n",
    "plt.scatter([0] * r9h.shape[0], r9h[\"run_time\"], c=list(range(r9h.shape[0])), cmap=cm.jet, marker=\"o\", s=100, alpha=0.4, label=\"Host\")\n",
    "plt.scatter([1] * r9c.shape[0], r9c[\"run_time\"], c=list(range(r9h.shape[0])), cmap=cm.jet, marker=\"s\", s=100, alpha=0.4, label=\"Container\")\n",
    "plt.xlim(-0.5, 1.5)\n",
    "plt.ylim(0, max(results_9[\"run_time\"]) * 1.1)\n",
    "plt.ylabel(\"Runtime (seconds)\")\n",
    "plt.xticks([0, 1], [\"Host\", \"Container\"])\n",
    "plt.tick_params(top=\"off\", right=\"off\")\n",
    "plt.title(\"RTG pedigree-aware variant calling, GIAB Ashkenazi trio\")\n",
    "\n",
    "plt.savefig(os.path.join(FIGURE_DIR, \"9.runtime.full.png\"))"
   ]
  },
  {
   "cell_type": "code",
   "execution_count": 22,
   "metadata": {
    "collapsed": false
   },
   "outputs": [
    {
     "data": {
      "image/png": "[encoded data removed]",
      "text/plain": [
       "<matplotlib.figure.Figure at 0x118113c50>"
      ]
     },
     "metadata": {},
     "output_type": "display_data"
    }
   ],
   "source": [
    "r9h = results_9[results_9[\"run_type\"] == \"host\"]\n",
    "r9c = results_9[results_9[\"run_type\"] == \"container\"]\n",
    "\n",
    "plt.scatter([0] * r9h.shape[0], r9h[\"run_time\"], c=list(range(r9h.shape[0])), cmap=cm.jet, marker=\"o\", s=100, alpha=0.4, label=\"Host\")\n",
    "plt.scatter([1] * r9c.shape[0], r9c[\"run_time\"], c=list(range(r9h.shape[0])), cmap=cm.jet, marker=\"s\", s=100, alpha=0.4, label=\"Container\")\n",
    "plt.xlim(-0.5, 1.5)\n",
    "plt.ylabel(\"Runtime (seconds)\")\n",
    "plt.xticks([0, 1], [\"Host\", \"Container\"])\n",
    "plt.tick_params(top=\"off\", right=\"off\")\n",
    "plt.title(\"RTG pedigree-aware variant calling, GIAB Ashkenazi trio\")\n",
    "\n",
    "plt.savefig(os.path.join(FIGURE_DIR, \"9.runtime.condensed.png\"))"
   ]
  },
  {
   "cell_type": "code",
   "execution_count": 23,
   "metadata": {
    "collapsed": false
   },
   "outputs": [
    {
     "data": {
      "image/png": "[encoded data removed]",
      "text/plain": [
       "<matplotlib.figure.Figure at 0x118115198>"
      ]
     },
     "metadata": {},
     "output_type": "display_data"
    }
   ],
   "source": [
    "plt.scatter([0] * r9h.shape[0], r9h[\"gb_memory_used\"], c=list(range(r9h.shape[0])), cmap=cm.jet, marker=\"o\", s=100, alpha=0.4, label=\"Host\")\n",
    "plt.scatter([1] * r9c.shape[0], r9c[\"gb_memory_used\"], c=list(range(r9h.shape[0])), cmap=cm.jet, marker=\"s\", s=100, alpha=0.4, label=\"Container\")\n",
    "plt.xlim(-0.5, 1.5)\n",
    "plt.ylim(0, max(results_9[\"gb_memory_used\"]) * 1.1)\n",
    "plt.ylabel(\"Memory utilization (GB)\")\n",
    "plt.xticks([0, 1], [\"Host\", \"Container\"])\n",
    "plt.tick_params(top=\"off\", right=\"off\")\n",
    "plt.title(\"RTG pedigree-aware variant calling, GIAB Ashkenazi trio\")\n",
    "\n",
    "plt.savefig(os.path.join(FIGURE_DIR, \"9.memory.full.png\"))"
   ]
  },
  {
   "cell_type": "code",
   "execution_count": 24,
   "metadata": {
    "collapsed": false
   },
   "outputs": [
    {
     "data": {
      "image/png": "[encoded data removed]",
      "text/plain": [
       "<matplotlib.figure.Figure at 0x117d4f550>"
      ]
     },
     "metadata": {},
     "output_type": "display_data"
    }
   ],
   "source": [
    "plt.scatter([0] * r9h.shape[0], r9h[\"gb_memory_used\"], c=list(range(r9h.shape[0])), cmap=cm.jet, marker=\"o\", s=100, alpha=0.4, label=\"Host\")\n",
    "plt.scatter([1] * r9c.shape[0], r9c[\"gb_memory_used\"], c=list(range(r9h.shape[0])), cmap=cm.jet, marker=\"s\", s=100, alpha=0.4, label=\"Container\")\n",
    "plt.xlim(-0.5, 1.5)\n",
    "plt.ylabel(\"Memory utilization (GB)\")\n",
    "plt.xticks([0, 1], [\"Host\", \"Container\"])\n",
    "plt.tick_params(top=\"off\", right=\"off\")\n",
    "plt.title(\"RTG pedigree-aware variant calling, GIAB Ashkenazi trio\")\n",
    "\n",
    "plt.savefig(os.path.join(FIGURE_DIR, \"9.memory.condensed.png\"))"
   ]
  }
 ],
 "metadata": {
  "anaconda-cloud": {},
  "kernelspec": {
   "display_name": "Python 3",
   "language": "python",
   "name": "python3"
  },
  "language_info": {
   "codemirror_mode": {
    "name": "ipython",
    "version": 3
   },
   "file_extension": ".py",
   "mimetype": "text/x-python",
   "name": "python",
   "nbconvert_exporter": "python",
   "pygments_lexer": "ipython3",
   "version": "3.5.1"
  }
 },
 "nbformat": 4,
 "nbformat_minor": 0
}
